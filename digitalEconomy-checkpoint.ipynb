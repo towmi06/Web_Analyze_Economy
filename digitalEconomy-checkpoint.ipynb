{
 "cells": [
  {
   "cell_type": "code",
   "execution_count": 106,
   "id": "25c929a0-21c3-4629-bd94-94388e1a4934",
   "metadata": {},
   "outputs": [],
   "source": [
    "import pandas as pd\n",
    "import numpy as np \n",
    "from matplotlib import pyplot as plt\n",
    "%matplotlib inline\n",
    "import matplotlib\n",
    "matplotlib.rcParams[\"figure.figsize\"] = (20,10)"
   ]
  },
  {
   "cell_type": "code",
   "execution_count": null,
   "id": "73e3a0ac-ce62-46a8-82a5-933cfd93b9c2",
   "metadata": {},
   "outputs": [],
   "source": []
  },
  {
   "cell_type": "markdown",
   "id": "d3cc5305-d92a-470b-9eb5-d1c33d538b3b",
   "metadata": {},
   "source": [
    "## READ DATA "
   ]
  },
  {
   "cell_type": "code",
   "execution_count": 107,
   "id": "46b1afcc-0e38-45c4-8ec1-4452b87c9dba",
   "metadata": {},
   "outputs": [
    {
     "name": "stderr",
     "output_type": "stream",
     "text": [
      "<>:1: SyntaxWarning: invalid escape sequence '\\s'\n",
      "<>:1: SyntaxWarning: invalid escape sequence '\\s'\n",
      "C:\\Users\\quynh\\AppData\\Local\\Temp\\ipykernel_19672\\835435763.py:1: SyntaxWarning: invalid escape sequence '\\s'\n",
      "  df1 = pd.read_csv('D:\\study\\TTCS\\Data\\Total.csv', encoding='latin1')\n"
     ]
    },
    {
     "data": {
      "text/html": [
       "<div>\n",
       "<style scoped>\n",
       "    .dataframe tbody tr th:only-of-type {\n",
       "        vertical-align: middle;\n",
       "    }\n",
       "\n",
       "    .dataframe tbody tr th {\n",
       "        vertical-align: top;\n",
       "    }\n",
       "\n",
       "    .dataframe thead th {\n",
       "        text-align: right;\n",
       "    }\n",
       "</style>\n",
       "<table border=\"1\" class=\"dataframe\">\n",
       "  <thead>\n",
       "    <tr style=\"text-align: right;\">\n",
       "      <th></th>\n",
       "      <th>STT</th>\n",
       "      <th>Country</th>\n",
       "      <th>Continents</th>\n",
       "      <th>Rate of users Internet (%)</th>\n",
       "      <th>Mobile device usage (%)</th>\n",
       "      <th>Revenue of ecommerce platforms (billion USD)</th>\n",
       "      <th>Revenue of IT industry (billion USD)</th>\n",
       "      <th>Funding in digital infrastructure (billion USD)</th>\n",
       "      <th>Foreign investment capital (million USD)</th>\n",
       "      <th>CREDIT and BANKING digital transformation ratio(%)</th>\n",
       "      <th>Number of Enterprises Applying Digital Transformation (bussiness)</th>\n",
       "      <th>Economic Growth Rate of Education (% GDP)</th>\n",
       "      <th>Number of technology start up businesses</th>\n",
       "      <th>Year</th>\n",
       "    </tr>\n",
       "  </thead>\n",
       "  <tbody>\n",
       "    <tr>\n",
       "      <th>0</th>\n",
       "      <td>1</td>\n",
       "      <td>Algeria</td>\n",
       "      <td>Africa</td>\n",
       "      <td>20.0</td>\n",
       "      <td>97.0</td>\n",
       "      <td>0.50</td>\n",
       "      <td>0.80</td>\n",
       "      <td>0.10</td>\n",
       "      <td>1.50</td>\n",
       "      <td>0.0</td>\n",
       "      <td>12000</td>\n",
       "      <td>4.1</td>\n",
       "      <td>800</td>\n",
       "      <td>2014</td>\n",
       "    </tr>\n",
       "    <tr>\n",
       "      <th>1</th>\n",
       "      <td>2</td>\n",
       "      <td>Angola</td>\n",
       "      <td>Africa</td>\n",
       "      <td>15.0</td>\n",
       "      <td>44.3</td>\n",
       "      <td>0.25</td>\n",
       "      <td>0.37</td>\n",
       "      <td>0.10</td>\n",
       "      <td>3.66</td>\n",
       "      <td>12.8</td>\n",
       "      <td>15000</td>\n",
       "      <td>3.5</td>\n",
       "      <td>170</td>\n",
       "      <td>2014</td>\n",
       "    </tr>\n",
       "    <tr>\n",
       "      <th>2</th>\n",
       "      <td>3</td>\n",
       "      <td>Benin</td>\n",
       "      <td>Africa</td>\n",
       "      <td>13.0</td>\n",
       "      <td>55.0</td>\n",
       "      <td>0.12</td>\n",
       "      <td>0.07</td>\n",
       "      <td>0.10</td>\n",
       "      <td>0.41</td>\n",
       "      <td>0.0</td>\n",
       "      <td>10000</td>\n",
       "      <td>3.5</td>\n",
       "      <td>80</td>\n",
       "      <td>2014</td>\n",
       "    </tr>\n",
       "    <tr>\n",
       "      <th>3</th>\n",
       "      <td>4</td>\n",
       "      <td>Botswana</td>\n",
       "      <td>Africa</td>\n",
       "      <td>21.0</td>\n",
       "      <td>77.0</td>\n",
       "      <td>0.20</td>\n",
       "      <td>0.20</td>\n",
       "      <td>0.07</td>\n",
       "      <td>0.52</td>\n",
       "      <td>0.0</td>\n",
       "      <td>18000</td>\n",
       "      <td>6.0</td>\n",
       "      <td>280</td>\n",
       "      <td>2014</td>\n",
       "    </tr>\n",
       "    <tr>\n",
       "      <th>4</th>\n",
       "      <td>5</td>\n",
       "      <td>Burkina Faso</td>\n",
       "      <td>Africa</td>\n",
       "      <td>4.5</td>\n",
       "      <td>65.5</td>\n",
       "      <td>0.10</td>\n",
       "      <td>0.10</td>\n",
       "      <td>0.06</td>\n",
       "      <td>0.36</td>\n",
       "      <td>0.0</td>\n",
       "      <td>8000</td>\n",
       "      <td>4.0</td>\n",
       "      <td>55</td>\n",
       "      <td>2014</td>\n",
       "    </tr>\n",
       "  </tbody>\n",
       "</table>\n",
       "</div>"
      ],
      "text/plain": [
       "   STT       Country Continents  Rate of users Internet (%)  \\\n",
       "0    1       Algeria   Africa                          20.0   \n",
       "1    2        Angola   Africa                          15.0   \n",
       "2    3         Benin   Africa                          13.0   \n",
       "3    4      Botswana   Africa                          21.0   \n",
       "4    5  Burkina Faso   Africa                           4.5   \n",
       "\n",
       "   Mobile device usage (%)  Revenue of ecommerce platforms (billion USD)  \\\n",
       "0                     97.0                                          0.50   \n",
       "1                     44.3                                          0.25   \n",
       "2                     55.0                                          0.12   \n",
       "3                     77.0                                          0.20   \n",
       "4                     65.5                                          0.10   \n",
       "\n",
       "   Revenue of IT industry (billion USD)  \\\n",
       "0                                  0.80   \n",
       "1                                  0.37   \n",
       "2                                  0.07   \n",
       "3                                  0.20   \n",
       "4                                  0.10   \n",
       "\n",
       "   Funding in digital infrastructure (billion USD)  \\\n",
       "0                                             0.10   \n",
       "1                                             0.10   \n",
       "2                                             0.10   \n",
       "3                                             0.07   \n",
       "4                                             0.06   \n",
       "\n",
       "   Foreign investment capital (million USD)  \\\n",
       "0                                      1.50   \n",
       "1                                      3.66   \n",
       "2                                      0.41   \n",
       "3                                      0.52   \n",
       "4                                      0.36   \n",
       "\n",
       "   CREDIT and BANKING digital transformation ratio(%)  \\\n",
       "0                                                0.0    \n",
       "1                                               12.8    \n",
       "2                                                0.0    \n",
       "3                                                0.0    \n",
       "4                                                0.0    \n",
       "\n",
       "   Number of Enterprises Applying Digital Transformation (bussiness)   \\\n",
       "0                                              12000                    \n",
       "1                                              15000                    \n",
       "2                                              10000                    \n",
       "3                                              18000                    \n",
       "4                                               8000                    \n",
       "\n",
       "   Economic Growth Rate of Education (% GDP)  \\\n",
       "0                                        4.1   \n",
       "1                                        3.5   \n",
       "2                                        3.5   \n",
       "3                                        6.0   \n",
       "4                                        4.0   \n",
       "\n",
       "    Number of technology start up businesses   Year  \n",
       "0                                         800  2014  \n",
       "1                                         170  2014  \n",
       "2                                          80  2014  \n",
       "3                                         280  2014  \n",
       "4                                          55  2014  "
      ]
     },
     "execution_count": 107,
     "metadata": {},
     "output_type": "execute_result"
    }
   ],
   "source": [
    "df1 = pd.read_csv('D:\\study\\TTCS\\Data\\Total.csv', encoding='latin1')\n",
    "df1.head()"
   ]
  },
  {
   "cell_type": "code",
   "execution_count": 108,
   "id": "4699135b-e646-45ed-a045-15f3528a5289",
   "metadata": {},
   "outputs": [
    {
     "data": {
      "text/plain": [
       "(1518, 14)"
      ]
     },
     "execution_count": 108,
     "metadata": {},
     "output_type": "execute_result"
    }
   ],
   "source": [
    "df1.shape"
   ]
  },
  {
   "cell_type": "code",
   "execution_count": 109,
   "id": "31cd8571-413c-48bd-acb1-d977c8540b2b",
   "metadata": {},
   "outputs": [
    {
     "data": {
      "text/plain": [
       "Index(['STT', 'Country', 'Continents', 'Rate of users Internet (%)',\n",
       "       'Mobile device usage (%)',\n",
       "       'Revenue of ecommerce platforms (billion USD)',\n",
       "       'Revenue of IT industry (billion USD)',\n",
       "       'Funding in digital infrastructure (billion USD)',\n",
       "       'Foreign investment capital (million USD)',\n",
       "       'CREDIT and BANKING digital transformation ratio(%)',\n",
       "       ' Number of Enterprises Applying Digital Transformation (bussiness) ',\n",
       "       'Economic Growth Rate of Education (% GDP)',\n",
       "       ' Number of technology start up businesses ', 'Year'],\n",
       "      dtype='object')"
      ]
     },
     "execution_count": 109,
     "metadata": {},
     "output_type": "execute_result"
    }
   ],
   "source": [
    "df1.columns"
   ]
  },
  {
   "cell_type": "code",
   "execution_count": 110,
   "id": "f623ec4c-794e-429b-9a97-20693bb997f7",
   "metadata": {},
   "outputs": [
    {
     "data": {
      "text/plain": [
       "array(['Algeria', 'Angola', 'Benin', 'Botswana', 'Burkina Faso',\n",
       "       'Burundi', 'Cabo Verde (Cape Verde)', 'Cameroon',\n",
       "       'Central African Republic', 'Chad', 'Comoros',\n",
       "       'Congo, Democratic Republic of the (DR Congo)',\n",
       "       'Congo, Republic of the (Republic of the Congo)', 'Djibouti',\n",
       "       'Egypt', 'Equatorial Guinea', 'Eritrea', 'Eswatini (Swaziland)',\n",
       "       'Ethiopia', 'Gabon', 'Gambia', 'Ghana', 'Guinea', 'Guinea-Bissau',\n",
       "       \"Ivory Coast (Côte d'Ivoire)\", 'Kenya', 'Lesotho', 'Liberia',\n",
       "       'Libya', 'Madagascar', 'Malawi', 'Mali', 'Mauritania', 'Mauritius',\n",
       "       'Morocco', 'Mozambique', 'Namibia', 'Niger', 'Nigeria', 'Rwanda',\n",
       "       'Sao Tome and Principe', 'Senegal', 'Seychelles', 'Sierra Leone',\n",
       "       'Somalia', 'South Africa', 'South Sudan', 'Sudan', 'Tanzania',\n",
       "       'Togo', 'Tunisia', 'Uganda', 'Zambia', 'Zimbabwe', 'Canada',\n",
       "       'The United States', 'Mexico', 'Belize', 'Costa Rica',\n",
       "       'El Salvador', 'Guatemala', 'Honduras', 'Nicaragua', 'Panama',\n",
       "       'Antigua and Barbuda', 'Bahamas', 'Barbados', 'Cuba', 'Dominica',\n",
       "       'Dominican Republic', 'Grenada', 'Haiti', 'Jamaica',\n",
       "       'Saint Kitts and Nevis', 'Saint Lucia',\n",
       "       'Saint Vincent and Grenadines', 'Trinidad and Tobago', 'Argentina',\n",
       "       'Bolivia', 'Brazil', 'Chile', 'Colombia', 'Ecuador', 'Guyana',\n",
       "       'Paraguay', 'Peru', 'Suriname', 'Uruguay', 'Venezuela', 'China',\n",
       "       'Japan', 'South Korea', 'India', 'Qatar', 'Saudi Arabia', 'Iran',\n",
       "       'Iraq', 'Nepal', 'Syria', 'Jordan', 'Israel', 'Palestine',\n",
       "       'Türkiye', 'Sri Lanka', 'Uzbekistan', 'Bahrain', 'Oman', 'The UK',\n",
       "       'France', 'Spain', 'Albania', 'Austria', 'Belarus', 'Belgium',\n",
       "       'Bulgaria', 'Croatia', 'Czech Republic', 'Denmark', 'Estonia',\n",
       "       'Germany', 'Greece', 'Hungary', 'Italy', 'Luxembourg',\n",
       "       'Netherlands', 'Bac Macedonia', 'Russia', 'Singapore', 'VietNam',\n",
       "       'Laos', 'Thailand', 'Cambodia', 'Myanmar', 'Malaysia', 'Indonesia',\n",
       "       'Philippines', 'Brunei', 'Timor-Leste'], dtype=object)"
      ]
     },
     "execution_count": 110,
     "metadata": {},
     "output_type": "execute_result"
    }
   ],
   "source": [
    "df1['Country'].unique()"
   ]
  },
  {
   "cell_type": "code",
   "execution_count": 111,
   "id": "ec8459d9-f336-4332-8c93-9e755716c446",
   "metadata": {},
   "outputs": [
    {
     "data": {
      "text/plain": [
       "Country\n",
       "Algeria                  11\n",
       "Saudi Arabia             11\n",
       "Venezuela                11\n",
       "China                    11\n",
       "Japan                    11\n",
       "                         ..\n",
       "Sao Tome and Principe    11\n",
       "Rwanda                   11\n",
       "Nigeria                  11\n",
       "Niger                    11\n",
       "Timor-Leste              11\n",
       "Name: count, Length: 138, dtype: int64"
      ]
     },
     "execution_count": 111,
     "metadata": {},
     "output_type": "execute_result"
    }
   ],
   "source": [
    "df1['Country'].value_counts()"
   ]
  },
  {
   "cell_type": "markdown",
   "id": "c39f7e72-f7c0-4e60-becf-a268284a4df1",
   "metadata": {},
   "source": [
    "## Data cleanning"
   ]
  },
  {
   "cell_type": "code",
   "execution_count": 112,
   "id": "4a0c98ea-5a16-48fc-9eb4-09451cf93fb4",
   "metadata": {},
   "outputs": [
    {
     "data": {
      "text/html": [
       "<div>\n",
       "<style scoped>\n",
       "    .dataframe tbody tr th:only-of-type {\n",
       "        vertical-align: middle;\n",
       "    }\n",
       "\n",
       "    .dataframe tbody tr th {\n",
       "        vertical-align: top;\n",
       "    }\n",
       "\n",
       "    .dataframe thead th {\n",
       "        text-align: right;\n",
       "    }\n",
       "</style>\n",
       "<table border=\"1\" class=\"dataframe\">\n",
       "  <thead>\n",
       "    <tr style=\"text-align: right;\">\n",
       "      <th></th>\n",
       "      <th>Country</th>\n",
       "      <th>Continents</th>\n",
       "      <th>Rate of users Internet (%)</th>\n",
       "      <th>Mobile device usage (%)</th>\n",
       "      <th>Revenue of ecommerce platforms (billion USD)</th>\n",
       "      <th>Revenue of IT industry (billion USD)</th>\n",
       "      <th>Funding in digital infrastructure (billion USD)</th>\n",
       "      <th>Foreign investment capital (million USD)</th>\n",
       "      <th>CREDIT and BANKING digital transformation ratio(%)</th>\n",
       "      <th>Number of Enterprises Applying Digital Transformation (bussiness)</th>\n",
       "      <th>Economic Growth Rate of Education (% GDP)</th>\n",
       "      <th>Number of technology start up businesses</th>\n",
       "      <th>Year</th>\n",
       "    </tr>\n",
       "  </thead>\n",
       "  <tbody>\n",
       "    <tr>\n",
       "      <th>0</th>\n",
       "      <td>Algeria</td>\n",
       "      <td>Africa</td>\n",
       "      <td>20.0</td>\n",
       "      <td>97.0</td>\n",
       "      <td>0.50</td>\n",
       "      <td>0.80</td>\n",
       "      <td>0.10</td>\n",
       "      <td>1.50</td>\n",
       "      <td>0.0</td>\n",
       "      <td>12000</td>\n",
       "      <td>4.1</td>\n",
       "      <td>800</td>\n",
       "      <td>2014</td>\n",
       "    </tr>\n",
       "    <tr>\n",
       "      <th>1</th>\n",
       "      <td>Angola</td>\n",
       "      <td>Africa</td>\n",
       "      <td>15.0</td>\n",
       "      <td>44.3</td>\n",
       "      <td>0.25</td>\n",
       "      <td>0.37</td>\n",
       "      <td>0.10</td>\n",
       "      <td>3.66</td>\n",
       "      <td>12.8</td>\n",
       "      <td>15000</td>\n",
       "      <td>3.5</td>\n",
       "      <td>170</td>\n",
       "      <td>2014</td>\n",
       "    </tr>\n",
       "    <tr>\n",
       "      <th>2</th>\n",
       "      <td>Benin</td>\n",
       "      <td>Africa</td>\n",
       "      <td>13.0</td>\n",
       "      <td>55.0</td>\n",
       "      <td>0.12</td>\n",
       "      <td>0.07</td>\n",
       "      <td>0.10</td>\n",
       "      <td>0.41</td>\n",
       "      <td>0.0</td>\n",
       "      <td>10000</td>\n",
       "      <td>3.5</td>\n",
       "      <td>80</td>\n",
       "      <td>2014</td>\n",
       "    </tr>\n",
       "    <tr>\n",
       "      <th>3</th>\n",
       "      <td>Botswana</td>\n",
       "      <td>Africa</td>\n",
       "      <td>21.0</td>\n",
       "      <td>77.0</td>\n",
       "      <td>0.20</td>\n",
       "      <td>0.20</td>\n",
       "      <td>0.07</td>\n",
       "      <td>0.52</td>\n",
       "      <td>0.0</td>\n",
       "      <td>18000</td>\n",
       "      <td>6.0</td>\n",
       "      <td>280</td>\n",
       "      <td>2014</td>\n",
       "    </tr>\n",
       "    <tr>\n",
       "      <th>4</th>\n",
       "      <td>Burkina Faso</td>\n",
       "      <td>Africa</td>\n",
       "      <td>4.5</td>\n",
       "      <td>65.5</td>\n",
       "      <td>0.10</td>\n",
       "      <td>0.10</td>\n",
       "      <td>0.06</td>\n",
       "      <td>0.36</td>\n",
       "      <td>0.0</td>\n",
       "      <td>8000</td>\n",
       "      <td>4.0</td>\n",
       "      <td>55</td>\n",
       "      <td>2014</td>\n",
       "    </tr>\n",
       "  </tbody>\n",
       "</table>\n",
       "</div>"
      ],
      "text/plain": [
       "        Country Continents  Rate of users Internet (%)  \\\n",
       "0       Algeria   Africa                          20.0   \n",
       "1        Angola   Africa                          15.0   \n",
       "2         Benin   Africa                          13.0   \n",
       "3      Botswana   Africa                          21.0   \n",
       "4  Burkina Faso   Africa                           4.5   \n",
       "\n",
       "   Mobile device usage (%)  Revenue of ecommerce platforms (billion USD)  \\\n",
       "0                     97.0                                          0.50   \n",
       "1                     44.3                                          0.25   \n",
       "2                     55.0                                          0.12   \n",
       "3                     77.0                                          0.20   \n",
       "4                     65.5                                          0.10   \n",
       "\n",
       "   Revenue of IT industry (billion USD)  \\\n",
       "0                                  0.80   \n",
       "1                                  0.37   \n",
       "2                                  0.07   \n",
       "3                                  0.20   \n",
       "4                                  0.10   \n",
       "\n",
       "   Funding in digital infrastructure (billion USD)  \\\n",
       "0                                             0.10   \n",
       "1                                             0.10   \n",
       "2                                             0.10   \n",
       "3                                             0.07   \n",
       "4                                             0.06   \n",
       "\n",
       "   Foreign investment capital (million USD)  \\\n",
       "0                                      1.50   \n",
       "1                                      3.66   \n",
       "2                                      0.41   \n",
       "3                                      0.52   \n",
       "4                                      0.36   \n",
       "\n",
       "   CREDIT and BANKING digital transformation ratio(%)  \\\n",
       "0                                                0.0    \n",
       "1                                               12.8    \n",
       "2                                                0.0    \n",
       "3                                                0.0    \n",
       "4                                                0.0    \n",
       "\n",
       "   Number of Enterprises Applying Digital Transformation (bussiness)   \\\n",
       "0                                              12000                    \n",
       "1                                              15000                    \n",
       "2                                              10000                    \n",
       "3                                              18000                    \n",
       "4                                               8000                    \n",
       "\n",
       "   Economic Growth Rate of Education (% GDP)  \\\n",
       "0                                        4.1   \n",
       "1                                        3.5   \n",
       "2                                        3.5   \n",
       "3                                        6.0   \n",
       "4                                        4.0   \n",
       "\n",
       "    Number of technology start up businesses   Year  \n",
       "0                                         800  2014  \n",
       "1                                         170  2014  \n",
       "2                                          80  2014  \n",
       "3                                         280  2014  \n",
       "4                                          55  2014  "
      ]
     },
     "execution_count": 112,
     "metadata": {},
     "output_type": "execute_result"
    }
   ],
   "source": [
    "df2 = df1.drop('STT', axis='columns')\n",
    "df2.head()\n"
   ]
  },
  {
   "cell_type": "code",
   "execution_count": 113,
   "id": "0364f24a-f75f-43ba-953d-b7fca34d790b",
   "metadata": {},
   "outputs": [
    {
     "name": "stdout",
     "output_type": "stream",
     "text": [
      "The numbers is null:\n",
      " Country                                                                0\n",
      "Continents                                                             0\n",
      "Rate of users Internet (%)                                             0\n",
      "Mobile device usage (%)                                                0\n",
      "Revenue of ecommerce platforms (billion USD)                           0\n",
      "Revenue of IT industry (billion USD)                                   0\n",
      "Funding in digital infrastructure (billion USD)                        0\n",
      "Foreign investment capital (million USD)                               0\n",
      "CREDIT and BANKING digital transformation ratio(%)                     0\n",
      " Number of Enterprises Applying Digital Transformation (bussiness)     0\n",
      "Economic Growth Rate of Education (% GDP)                              0\n",
      " Number of technology start up businesses                              0\n",
      "Year                                                                   0\n",
      "dtype: int64\n",
      "\n",
      " Equal 0 :\n",
      " Country                                                                  0\n",
      "Continents                                                               0\n",
      "Rate of users Internet (%)                                               0\n",
      "Mobile device usage (%)                                                  0\n",
      "Revenue of ecommerce platforms (billion USD)                             1\n",
      "Revenue of IT industry (billion USD)                                    24\n",
      "Funding in digital infrastructure (billion USD)                        121\n",
      "Foreign investment capital (million USD)                                65\n",
      "CREDIT and BANKING digital transformation ratio(%)                     390\n",
      " Number of Enterprises Applying Digital Transformation (bussiness)       0\n",
      "Economic Growth Rate of Education (% GDP)                                0\n",
      " Number of technology start up businesses                                0\n",
      "Year                                                                     0\n",
      "dtype: int64\n"
     ]
    }
   ],
   "source": [
    "#check null \n",
    "null_values = df2.isnull().sum()\n",
    "\n",
    "# Value = 0\n",
    "zero_values = (df2 == 0).sum()\n",
    "\n",
    "print(\"The numbers is null:\\n\", null_values)\n",
    "print(\"\\n Equal 0 :\\n\", zero_values)"
   ]
  },
  {
   "cell_type": "code",
   "execution_count": 116,
   "id": "61eebccf",
   "metadata": {},
   "outputs": [
    {
     "name": "stdout",
     "output_type": "stream",
     "text": [
      "Accuracy: 0.7406143344709898\n"
     ]
    },
    {
     "name": "stderr",
     "output_type": "stream",
     "text": [
      "d:\\setApp\\anaconda3\\Lib\\site-packages\\sklearn\\preprocessing\\_discretization.py:248: FutureWarning: In version 1.5 onwards, subsample=200_000 will be used by default. Set subsample explicitly to silence this warning in the mean time. Set subsample=None to disable subsampling explicitly.\n",
      "  warnings.warn(\n"
     ]
    }
   ],
   "source": [
    "import numpy as np\n",
    "from sklearn.preprocessing import StandardScaler, KBinsDiscretizer\n",
    "from sklearn.model_selection import train_test_split\n",
    "from sklearn.neighbors import KNeighborsClassifier\n",
    "from sklearn.metrics import accuracy_score\n",
    "import pandas as pd\n",
    "\n",
    "# Clean the data by replacing or removing problematic string values\n",
    "df2.replace(' -   ', np.nan, inplace=True)\n",
    "df2.dropna(inplace=True)\n",
    "\n",
    "# Strip any extra spaces in column names\n",
    "df2.columns = df2.columns.str.strip()\n",
    "\n",
    "target = 'Rate of users Internet (%)'       \n",
    "# Định nghĩa các nhóm đặc trưng\n",
    "features1 = ['Mobile device usage (%)', 'CREDIT and BANKING digital transformation ratio(%)', 'Economic Growth Rate of Education (% GDP)']\n",
    "features2 = ['Revenue of ecommerce platforms (billion USD)', 'Revenue of IT industry (billion USD)', 'Funding in digital infrastructure (billion USD)']\n",
    "features3 = ['Foreign investment capital (million USD)']\n",
    "features4 = ['Number of Enterprises Applying Digital Transformation (bussiness)']\n",
    "\n",
    "# Định nghĩa các đặc trưng và mục tiêu\n",
    "X_percent = df2[features1]\n",
    "X_billion_usd = df2[features2]\n",
    "X_million_usd = df2[features3]\n",
    "X_other = df2[features4]\n",
    "y = df2[target]\n",
    "\n",
    "# Discretize the continuous target variable into 3 bins\n",
    "discretizer = KBinsDiscretizer(n_bins=3, encode='ordinal', strategy='uniform')\n",
    "y_binned = discretizer.fit_transform(y.values.reshape(-1, 1)).ravel()\n",
    "\n",
    "# Kết hợp tất cả các nhóm đặc trưng thành một DataFrame duy nhất\n",
    "X_combined = pd.concat([X_percent, X_billion_usd, X_million_usd, X_other], axis=1)\n",
    "\n",
    "# Chia dữ liệu thành tập huấn luyện và kiểm tra\n",
    "X_train, X_test, y_train, y_test = train_test_split(X_combined, y_binned, test_size=0.2, random_state=42)\n",
    "\n",
    "# Chuẩn hóa các đặc trưng\n",
    "scaler = StandardScaler()\n",
    "X_train = scaler.fit_transform(X_train)\n",
    "X_test = scaler.transform(X_test)\n",
    "\n",
    "# Khởi tạo mô hình KNN\n",
    "knn = KNeighborsClassifier(n_neighbors=5)\n",
    "\n",
    "# Huấn luyện mô hình\n",
    "knn.fit(X_train, y_train)\n",
    "\n",
    "# Dự đoán\n",
    "y_pred = knn.predict(X_test)\n",
    "\n",
    "# Đánh giá mô hình\n",
    "accuracy = accuracy_score(y_test, y_pred)\n",
    "print(f'Accuracy: {accuracy}')\n"
   ]
  },
  {
   "cell_type": "code",
   "execution_count": 117,
   "id": "b006f416-d2bb-42ad-b187-c72db4ea174c",
   "metadata": {},
   "outputs": [
    {
     "name": "stdout",
     "output_type": "stream",
     "text": [
      "Confusion Matrix:\n",
      "[[ 61  17   1]\n",
      " [ 19  56  20]\n",
      " [  3  16 100]]\n",
      "\n",
      "Classification Report:\n",
      "              precision    recall  f1-score   support\n",
      "\n",
      "         0.0       0.73      0.77      0.75        79\n",
      "         1.0       0.63      0.59      0.61        95\n",
      "         2.0       0.83      0.84      0.83       119\n",
      "\n",
      "    accuracy                           0.74       293\n",
      "   macro avg       0.73      0.73      0.73       293\n",
      "weighted avg       0.74      0.74      0.74       293\n",
      "\n"
     ]
    }
   ],
   "source": [
    "from sklearn.metrics import confusion_matrix, classification_report\n",
    "\n",
    "# Tính toán confusion matrix\n",
    "conf_matrix = confusion_matrix(y_test, y_pred)\n",
    "\n",
    "# Hiển thị confusion matrix\n",
    "print(\"Confusion Matrix:\")\n",
    "print(conf_matrix)\n",
    "\n",
    "# Hiển thị báo cáo phân loại\n",
    "class_report = classification_report(y_test, y_pred)\n",
    "print(\"\\nClassification Report:\")\n",
    "print(class_report)"
   ]
  },
  {
   "cell_type": "code",
   "execution_count": 139,
   "id": "ae54bf62-6213-40a1-940b-09d301bc4be5",
   "metadata": {},
   "outputs": [
    {
     "name": "stderr",
     "output_type": "stream",
     "text": [
      "C:\\Users\\quynh\\AppData\\Local\\Temp\\ipykernel_19672\\2703205671.py:23: UserWarning: set_ticklabels() should only be used with a fixed number of ticks, i.e. after set_ticks() or using a FixedLocator.\n",
      "  ax1.set_xticklabels(filtered_importance['Feature'], rotation=45, ha='center', fontsize=7, wrap=True)\n",
      "C:\\Users\\quynh\\AppData\\Local\\Temp\\ipykernel_19672\\2703205671.py:31: UserWarning: set_ticklabels() should only be used with a fixed number of ticks, i.e. after set_ticks() or using a FixedLocator.\n",
      "  ax1.set_xticklabels(wrapped_labels, rotation=0, ha='center', fontsize=7)\n"
     ]
    },
    {
     "data": {
      "image/png": "[encoded data removed]",
      "text/plain": [
       "<Figure size 400x300 with 2 Axes>"
      ]
     },
     "metadata": {},
     "output_type": "display_data"
    },
    {
     "name": "stderr",
     "output_type": "stream",
     "text": [
      "C:\\Users\\quynh\\AppData\\Local\\Temp\\ipykernel_19672\\2703205671.py:23: UserWarning: set_ticklabels() should only be used with a fixed number of ticks, i.e. after set_ticks() or using a FixedLocator.\n",
      "  ax1.set_xticklabels(filtered_importance['Feature'], rotation=45, ha='center', fontsize=7, wrap=True)\n",
      "C:\\Users\\quynh\\AppData\\Local\\Temp\\ipykernel_19672\\2703205671.py:31: UserWarning: set_ticklabels() should only be used with a fixed number of ticks, i.e. after set_ticks() or using a FixedLocator.\n",
      "  ax1.set_xticklabels(wrapped_labels, rotation=0, ha='center', fontsize=7)\n"
     ]
    },
    {
     "data": {
      "image/png": "[encoded data removed]",
      "text/plain": [
       "<Figure size 400x300 with 2 Axes>"
      ]
     },
     "metadata": {},
     "output_type": "display_data"
    },
    {
     "name": "stderr",
     "output_type": "stream",
     "text": [
      "C:\\Users\\quynh\\AppData\\Local\\Temp\\ipykernel_19672\\2703205671.py:23: UserWarning: set_ticklabels() should only be used with a fixed number of ticks, i.e. after set_ticks() or using a FixedLocator.\n",
      "  ax1.set_xticklabels(filtered_importance['Feature'], rotation=45, ha='center', fontsize=7, wrap=True)\n",
      "C:\\Users\\quynh\\AppData\\Local\\Temp\\ipykernel_19672\\2703205671.py:31: UserWarning: set_ticklabels() should only be used with a fixed number of ticks, i.e. after set_ticks() or using a FixedLocator.\n",
      "  ax1.set_xticklabels(wrapped_labels, rotation=0, ha='center', fontsize=7)\n"
     ]
    },
    {
     "data": {
      "image/png": "[encoded data removed]",
      "text/plain": [
       "<Figure size 400x300 with 2 Axes>"
      ]
     },
     "metadata": {},
     "output_type": "display_data"
    },
    {
     "name": "stderr",
     "output_type": "stream",
     "text": [
      "C:\\Users\\quynh\\AppData\\Local\\Temp\\ipykernel_19672\\2703205671.py:23: UserWarning: set_ticklabels() should only be used with a fixed number of ticks, i.e. after set_ticks() or using a FixedLocator.\n",
      "  ax1.set_xticklabels(filtered_importance['Feature'], rotation=45, ha='center', fontsize=7, wrap=True)\n",
      "C:\\Users\\quynh\\AppData\\Local\\Temp\\ipykernel_19672\\2703205671.py:31: UserWarning: set_ticklabels() should only be used with a fixed number of ticks, i.e. after set_ticks() or using a FixedLocator.\n",
      "  ax1.set_xticklabels(wrapped_labels, rotation=0, ha='center', fontsize=7)\n"
     ]
    },
    {
     "data": {
      "image/png": "[encoded data removed]",
      "text/plain": [
       "<Figure size 400x300 with 2 Axes>"
      ]
     },
     "metadata": {},
     "output_type": "display_data"
    }
   ],
   "source": [
    "# Define a function to plot feature importance for a given set of features\n",
    "from sklearn.inspection import permutation_importance\n",
    "import textwrap\n",
    "\n",
    "def plot_feature_importance(features, title):\n",
    "    # Calculate permutation importance\n",
    "    result = permutation_importance(knn, X_test, y_test, n_repeats=10, random_state=42)\n",
    "    feature_importance = pd.DataFrame({\n",
    "        'Feature': X_combined.columns,\n",
    "        'Importance': result.importances_mean\n",
    "    })\n",
    "    filtered_importance = feature_importance[feature_importance['Feature'].isin(features)]\n",
    "    \n",
    "    fig, ax1 = plt.subplots(figsize=(4, 3))  # Adjust the figure size\n",
    "\n",
    "    # Plot the bar chart for feature importance\n",
    "    ax1.bar(filtered_importance['Feature'], filtered_importance['Importance'], color='b', alpha=0.1, width=0.2)  # Adjust the bar width\n",
    "    ax1.set_xlabel('Feature')\n",
    "    ax1.set_ylabel('Importance', color='b')\n",
    "    ax1.tick_params('y', colors='b')\n",
    "\n",
    "    # Adjust the x-tick labels\n",
    "    ax1.set_xticklabels(filtered_importance['Feature'], rotation=45, ha='center', fontsize=7, wrap=True)\n",
    "\n",
    "    # Create a second y-axis to plot the line chart\n",
    "    ax2 = ax1.twinx()\n",
    "    ax2.plot(filtered_importance['Feature'], filtered_importance['Importance'], color='r', marker='o')\n",
    "    ax2.set_ylabel('Importance (Line)', color='r')\n",
    "    # Wrap the x-tick labels to ensure they display two words per line\n",
    "    wrapped_labels = ['\\n'.join(textwrap.wrap(label, 10)) for label in filtered_importance['Feature']]\n",
    "    ax1.set_xticklabels(wrapped_labels, rotation=0, ha='center', fontsize=7)\n",
    "    ax2.tick_params('y', colors='r')\n",
    "\n",
    "    plt.title(title)\n",
    "    plt.tight_layout()  # Adjust layout to fit everything nicely\n",
    "    plt.show()\n",
    "\n",
    "# Plot feature importance for each group of features\n",
    "plot_feature_importance(features1, 'Feature Importance for Group 1 (Percent Features)')\n",
    "plot_feature_importance(features2, 'Feature Importance for Group 2 (Billion USD Features)')\n",
    "plot_feature_importance(features3, 'Feature Importance for Group 3 (Million USD Features)')\n",
    "plot_feature_importance(features4, 'Feature Importance for Group 4 (Other Features)')\n"
   ]
  }
 ],
 "metadata": {
  "kernelspec": {
   "display_name": "Python 3 (ipykernel)",
   "language": "python",
   "name": "python3"
  },
  "language_info": {
   "codemirror_mode": {
    "name": "ipython",
    "version": 3
   },
   "file_extension": ".py",
   "mimetype": "text/x-python",
   "name": "python",
   "nbconvert_exporter": "python",
   "pygments_lexer": "ipython3",
   "version": "3.12.4"
  }
 },
 "nbformat": 4,
 "nbformat_minor": 5
}
